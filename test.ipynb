{
 "cells": [
  {
   "cell_type": "code",
   "execution_count": 2,
   "metadata": {},
   "outputs": [],
   "source": [
    "from dataclasses import dataclass\n",
    "import pyshark\n",
    "import nest_asyncio\n",
    "from pyshark.packet.packet import Packet\n",
    "from tqdm import tqdm\n",
    "import os"
   ]
  },
  {
   "cell_type": "code",
   "execution_count": 6,
   "metadata": {},
   "outputs": [],
   "source": [
    "@dataclass\n",
    "class PacketInfo:\n",
    "    seq_number: int \n",
    "    masked_src: str \n",
    "    masked_dst: str \n",
    "    cap_index: int\n",
    "    src_port: int \n",
    "    dst_port: int\n",
    "    mallicious: bool\n",
    "\n",
    "samyang = []"
   ]
  },
  {
   "cell_type": "code",
   "execution_count": 15,
   "metadata": {},
   "outputs": [
    {
     "ename": "KeyboardInterrupt",
     "evalue": "",
     "output_type": "error",
     "traceback": [
      "\u001b[0;31m---------------------------------------------------------------------------\u001b[0m",
      "\u001b[0;31mKeyboardInterrupt\u001b[0m                         Traceback (most recent call last)",
      "Cell \u001b[0;32mIn[15], line 3\u001b[0m\n\u001b[1;32m      1\u001b[0m cap \u001b[39m=\u001b[39m pyshark\u001b[39m.\u001b[39mFileCapture(\u001b[39m\"\u001b[39m\u001b[39m./test.pcap\u001b[39m\u001b[39m\"\u001b[39m)\n\u001b[1;32m      2\u001b[0m l \u001b[39m=\u001b[39m \u001b[39m0\u001b[39m\n\u001b[0;32m----> 3\u001b[0m \u001b[39mfor\u001b[39;00m _ \u001b[39min\u001b[39;00m cap:\n\u001b[1;32m      4\u001b[0m     l \u001b[39m+\u001b[39m\u001b[39m=\u001b[39m \u001b[39m1\u001b[39m\n\u001b[1;32m      5\u001b[0m \u001b[39mprint\u001b[39m(l)\n",
      "File \u001b[0;32m/opt/homebrew/lib/python3.11/site-packages/pyshark/capture/capture.py:221\u001b[0m, in \u001b[0;36mCapture._packets_from_tshark_sync\u001b[0;34m(self, packet_count, existing_process)\u001b[0m\n\u001b[1;32m    219\u001b[0m \u001b[39mwhile\u001b[39;00m \u001b[39mTrue\u001b[39;00m:\n\u001b[1;32m    220\u001b[0m     \u001b[39mtry\u001b[39;00m:\n\u001b[0;32m--> 221\u001b[0m         packet, data \u001b[39m=\u001b[39m \u001b[39mself\u001b[39;49m\u001b[39m.\u001b[39;49meventloop\u001b[39m.\u001b[39;49mrun_until_complete(\n\u001b[1;32m    222\u001b[0m             parser\u001b[39m.\u001b[39;49mget_packets_from_stream(tshark_process\u001b[39m.\u001b[39;49mstdout, data,\n\u001b[1;32m    223\u001b[0m                                            got_first_packet\u001b[39m=\u001b[39;49mpackets_captured \u001b[39m>\u001b[39;49m \u001b[39m0\u001b[39;49m))\n\u001b[1;32m    225\u001b[0m     \u001b[39mexcept\u001b[39;00m \u001b[39mEOFError\u001b[39;00m:\n\u001b[1;32m    226\u001b[0m         \u001b[39mself\u001b[39m\u001b[39m.\u001b[39m_log\u001b[39m.\u001b[39mdebug(\u001b[39m\"\u001b[39m\u001b[39mEOF reached (sync)\u001b[39m\u001b[39m\"\u001b[39m)\n",
      "File \u001b[0;32m~/Library/Python/3.11/lib/python/site-packages/nest_asyncio.py:93\u001b[0m, in \u001b[0;36m_patch_loop.<locals>.run_until_complete\u001b[0;34m(self, future)\u001b[0m\n\u001b[1;32m     91\u001b[0m     f\u001b[39m.\u001b[39m_log_destroy_pending \u001b[39m=\u001b[39m \u001b[39mFalse\u001b[39;00m\n\u001b[1;32m     92\u001b[0m \u001b[39mwhile\u001b[39;00m \u001b[39mnot\u001b[39;00m f\u001b[39m.\u001b[39mdone():\n\u001b[0;32m---> 93\u001b[0m     \u001b[39mself\u001b[39;49m\u001b[39m.\u001b[39;49m_run_once()\n\u001b[1;32m     94\u001b[0m     \u001b[39mif\u001b[39;00m \u001b[39mself\u001b[39m\u001b[39m.\u001b[39m_stopping:\n\u001b[1;32m     95\u001b[0m         \u001b[39mbreak\u001b[39;00m\n",
      "File \u001b[0;32m~/Library/Python/3.11/lib/python/site-packages/nest_asyncio.py:129\u001b[0m, in \u001b[0;36m_patch_loop.<locals>._run_once\u001b[0;34m(self)\u001b[0m\n\u001b[1;32m    127\u001b[0m     handle \u001b[39m=\u001b[39m ready\u001b[39m.\u001b[39mpopleft()\n\u001b[1;32m    128\u001b[0m     \u001b[39mif\u001b[39;00m \u001b[39mnot\u001b[39;00m handle\u001b[39m.\u001b[39m_cancelled:\n\u001b[0;32m--> 129\u001b[0m         handle\u001b[39m.\u001b[39;49m_run()\n\u001b[1;32m    130\u001b[0m handle \u001b[39m=\u001b[39m \u001b[39mNone\u001b[39;00m\n",
      "File \u001b[0;32m/opt/homebrew/Cellar/python@3.11/3.11.7_1/Frameworks/Python.framework/Versions/3.11/lib/python3.11/asyncio/events.py:80\u001b[0m, in \u001b[0;36mHandle._run\u001b[0;34m(self)\u001b[0m\n\u001b[1;32m     78\u001b[0m \u001b[39mdef\u001b[39;00m \u001b[39m_run\u001b[39m(\u001b[39mself\u001b[39m):\n\u001b[1;32m     79\u001b[0m     \u001b[39mtry\u001b[39;00m:\n\u001b[0;32m---> 80\u001b[0m         \u001b[39mself\u001b[39;49m\u001b[39m.\u001b[39;49m_context\u001b[39m.\u001b[39;49mrun(\u001b[39mself\u001b[39;49m\u001b[39m.\u001b[39;49m_callback, \u001b[39m*\u001b[39;49m\u001b[39mself\u001b[39;49m\u001b[39m.\u001b[39;49m_args)\n\u001b[1;32m     81\u001b[0m     \u001b[39mexcept\u001b[39;00m (\u001b[39mSystemExit\u001b[39;00m, \u001b[39mKeyboardInterrupt\u001b[39;00m):\n\u001b[1;32m     82\u001b[0m         \u001b[39mraise\u001b[39;00m\n",
      "File \u001b[0;32m~/Library/Python/3.11/lib/python/site-packages/nest_asyncio.py:205\u001b[0m, in \u001b[0;36m_patch_task.<locals>.step\u001b[0;34m(task, exc)\u001b[0m\n\u001b[1;32m    203\u001b[0m curr_task \u001b[39m=\u001b[39m curr_tasks\u001b[39m.\u001b[39mget(task\u001b[39m.\u001b[39m_loop)\n\u001b[1;32m    204\u001b[0m \u001b[39mtry\u001b[39;00m:\n\u001b[0;32m--> 205\u001b[0m     step_orig(task, exc)\n\u001b[1;32m    206\u001b[0m \u001b[39mfinally\u001b[39;00m:\n\u001b[1;32m    207\u001b[0m     \u001b[39mif\u001b[39;00m curr_task \u001b[39mis\u001b[39;00m \u001b[39mNone\u001b[39;00m:\n",
      "File \u001b[0;32m/opt/homebrew/Cellar/python@3.11/3.11.7_1/Frameworks/Python.framework/Versions/3.11/lib/python3.11/asyncio/tasks.py:277\u001b[0m, in \u001b[0;36mTask.__step\u001b[0;34m(***failed resolving arguments***)\u001b[0m\n\u001b[1;32m    273\u001b[0m \u001b[39mtry\u001b[39;00m:\n\u001b[1;32m    274\u001b[0m     \u001b[39mif\u001b[39;00m exc \u001b[39mis\u001b[39;00m \u001b[39mNone\u001b[39;00m:\n\u001b[1;32m    275\u001b[0m         \u001b[39m# We use the `send` method directly, because coroutines\u001b[39;00m\n\u001b[1;32m    276\u001b[0m         \u001b[39m# don't have `__iter__` and `__next__` methods.\u001b[39;00m\n\u001b[0;32m--> 277\u001b[0m         result \u001b[39m=\u001b[39m coro\u001b[39m.\u001b[39msend(\u001b[39mNone\u001b[39;00m)\n\u001b[1;32m    278\u001b[0m     \u001b[39melse\u001b[39;00m:\n\u001b[1;32m    279\u001b[0m         result \u001b[39m=\u001b[39m coro\u001b[39m.\u001b[39mthrow(exc)\n",
      "File \u001b[0;32m/opt/homebrew/lib/python3.11/site-packages/pyshark/tshark/output_parser/tshark_xml.py:27\u001b[0m, in \u001b[0;36mTsharkXmlParser.get_packets_from_stream\u001b[0;34m(self, stream, existing_data, got_first_packet)\u001b[0m\n\u001b[1;32m     25\u001b[0m \u001b[39mif\u001b[39;00m \u001b[39mself\u001b[39m\u001b[39m.\u001b[39m_parse_summaries:\n\u001b[1;32m     26\u001b[0m     existing_data \u001b[39m=\u001b[39m \u001b[39mawait\u001b[39;00m \u001b[39mself\u001b[39m\u001b[39m.\u001b[39m_get_psml_struct(stream)\n\u001b[0;32m---> 27\u001b[0m \u001b[39mreturn\u001b[39;00m \u001b[39mawait\u001b[39;00m \u001b[39msuper\u001b[39m()\u001b[39m.\u001b[39mget_packets_from_stream(stream, existing_data, got_first_packet\u001b[39m=\u001b[39mgot_first_packet)\n",
      "File \u001b[0;32m/opt/homebrew/lib/python3.11/site-packages/pyshark/tshark/output_parser/base_parser.py:15\u001b[0m, in \u001b[0;36mBaseTsharkOutputParser.get_packets_from_stream\u001b[0;34m(self, stream, existing_data, got_first_packet)\u001b[0m\n\u001b[1;32m     12\u001b[0m packet, existing_data \u001b[39m=\u001b[39m \u001b[39mself\u001b[39m\u001b[39m.\u001b[39m_extract_packet_from_data(existing_data,\n\u001b[1;32m     13\u001b[0m                                                        got_first_packet\u001b[39m=\u001b[39mgot_first_packet)\n\u001b[1;32m     14\u001b[0m \u001b[39mif\u001b[39;00m packet:\n\u001b[0;32m---> 15\u001b[0m     packet \u001b[39m=\u001b[39m \u001b[39mself\u001b[39;49m\u001b[39m.\u001b[39;49m_parse_single_packet(packet)\n\u001b[1;32m     16\u001b[0m     \u001b[39mreturn\u001b[39;00m packet, existing_data\n\u001b[1;32m     18\u001b[0m new_data \u001b[39m=\u001b[39m \u001b[39mawait\u001b[39;00m stream\u001b[39m.\u001b[39mread(\u001b[39mself\u001b[39m\u001b[39m.\u001b[39mDEFAULT_BATCH_SIZE)\n",
      "File \u001b[0;32m/opt/homebrew/lib/python3.11/site-packages/pyshark/tshark/output_parser/tshark_xml.py:30\u001b[0m, in \u001b[0;36mTsharkXmlParser._parse_single_packet\u001b[0;34m(self, packet)\u001b[0m\n\u001b[1;32m     29\u001b[0m \u001b[39mdef\u001b[39;00m \u001b[39m_parse_single_packet\u001b[39m(\u001b[39mself\u001b[39m, packet):\n\u001b[0;32m---> 30\u001b[0m     \u001b[39mreturn\u001b[39;00m packet_from_xml_packet(packet, psml_structure\u001b[39m=\u001b[39;49m\u001b[39mself\u001b[39;49m\u001b[39m.\u001b[39;49m_psml_structure)\n",
      "File \u001b[0;32m/opt/homebrew/lib/python3.11/site-packages/pyshark/tshark/output_parser/tshark_xml.py:81\u001b[0m, in \u001b[0;36mpacket_from_xml_packet\u001b[0;34m(xml_pkt, psml_structure)\u001b[0m\n\u001b[1;32m     79\u001b[0m \u001b[39mif\u001b[39;00m \u001b[39mnot\u001b[39;00m \u001b[39misinstance\u001b[39m(xml_pkt, lxml\u001b[39m.\u001b[39mobjectify\u001b[39m.\u001b[39mObjectifiedElement):\n\u001b[1;32m     80\u001b[0m     parser \u001b[39m=\u001b[39m lxml\u001b[39m.\u001b[39mobjectify\u001b[39m.\u001b[39mmakeparser(huge_tree\u001b[39m=\u001b[39m\u001b[39mTrue\u001b[39;00m, recover\u001b[39m=\u001b[39m\u001b[39mTrue\u001b[39;00m, encoding\u001b[39m=\u001b[39m\u001b[39m'\u001b[39m\u001b[39mutf-8\u001b[39m\u001b[39m'\u001b[39m)\n\u001b[0;32m---> 81\u001b[0m     xml_pkt \u001b[39m=\u001b[39m xml_pkt\u001b[39m.\u001b[39mdecode(errors\u001b[39m=\u001b[39m\u001b[39m'\u001b[39m\u001b[39mignore\u001b[39m\u001b[39m'\u001b[39m)\u001b[39m.\u001b[39mtranslate(DEL_BAD_XML_CHARS)\n\u001b[1;32m     82\u001b[0m     xml_pkt \u001b[39m=\u001b[39m lxml\u001b[39m.\u001b[39mobjectify\u001b[39m.\u001b[39mfromstring(xml_pkt\u001b[39m.\u001b[39mencode(\u001b[39m'\u001b[39m\u001b[39mutf-8\u001b[39m\u001b[39m'\u001b[39m), parser)\n\u001b[1;32m     83\u001b[0m \u001b[39mif\u001b[39;00m psml_structure:\n",
      "\u001b[0;31mKeyboardInterrupt\u001b[0m: "
     ]
    }
   ],
   "source": [
    "cap = pyshark.FileCapture(\"./test.pcap\")\n",
    "l = 0\n",
    "for _ in cap:\n",
    "    l += 1\n",
    "print(l)"
   ]
  },
  {
   "cell_type": "code",
   "execution_count": 7,
   "metadata": {},
   "outputs": [
    {
     "name": "stderr",
     "output_type": "stream",
     "text": [
      "4868954it [12:20:46, 109.55it/s] \n"
     ]
    },
    {
     "ename": "KeyboardInterrupt",
     "evalue": "",
     "output_type": "error",
     "traceback": [
      "\u001b[0;31m---------------------------------------------------------------------------\u001b[0m",
      "\u001b[0;31mKeyboardInterrupt\u001b[0m                         Traceback (most recent call last)",
      "Cell \u001b[0;32mIn[7], line 21\u001b[0m\n\u001b[1;32m     18\u001b[0m         listttt\u001b[39m.\u001b[39mappend(pio)\n\u001b[1;32m     20\u001b[0m \u001b[39m# Replace 'your_pcap_file.pcap' with the path to your pcap file\u001b[39;00m\n\u001b[0;32m---> 21\u001b[0m read_pcap(\u001b[39m'\u001b[39;49m\u001b[39m./test.pcap\u001b[39;49m\u001b[39m'\u001b[39;49m)\n",
      "Cell \u001b[0;32mIn[7], line 8\u001b[0m, in \u001b[0;36mread_pcap\u001b[0;34m(file_name, listttt)\u001b[0m\n\u001b[1;32m      5\u001b[0m cap \u001b[39m=\u001b[39m pyshark\u001b[39m.\u001b[39mFileCapture(file_name)\n\u001b[1;32m      7\u001b[0m \u001b[39m# Iterate over packets and display their information\u001b[39;00m\n\u001b[0;32m----> 8\u001b[0m \u001b[39mfor\u001b[39;00m i, packet \u001b[39min\u001b[39;00m tqdm(\u001b[39menumerate\u001b[39m(cap)):\n\u001b[1;32m      9\u001b[0m     packet: Packet \u001b[39m=\u001b[39m packet\n\u001b[1;32m     10\u001b[0m     \u001b[39mif\u001b[39;00m (\u001b[39m'\u001b[39m\u001b[39mTCP\u001b[39m\u001b[39m'\u001b[39m \u001b[39mnot\u001b[39;00m \u001b[39min\u001b[39;00m packet) \u001b[39mor\u001b[39;00m (\u001b[39m'\u001b[39m\u001b[39mIP\u001b[39m\u001b[39m'\u001b[39m \u001b[39mnot\u001b[39;00m \u001b[39min\u001b[39;00m packet): \u001b[39mcontinue\u001b[39;00m\n",
      "File \u001b[0;32m/opt/homebrew/lib/python3.11/site-packages/tqdm/std.py:1182\u001b[0m, in \u001b[0;36mtqdm.__iter__\u001b[0;34m(self)\u001b[0m\n\u001b[1;32m   1179\u001b[0m time \u001b[39m=\u001b[39m \u001b[39mself\u001b[39m\u001b[39m.\u001b[39m_time\n\u001b[1;32m   1181\u001b[0m \u001b[39mtry\u001b[39;00m:\n\u001b[0;32m-> 1182\u001b[0m     \u001b[39mfor\u001b[39;00m obj \u001b[39min\u001b[39;00m iterable:\n\u001b[1;32m   1183\u001b[0m         \u001b[39myield\u001b[39;00m obj\n\u001b[1;32m   1184\u001b[0m         \u001b[39m# Update and possibly print the progressbar.\u001b[39;00m\n\u001b[1;32m   1185\u001b[0m         \u001b[39m# Note: does not call self.update(1) for speed optimisation.\u001b[39;00m\n",
      "File \u001b[0;32m/opt/homebrew/lib/python3.11/site-packages/pyshark/capture/capture.py:221\u001b[0m, in \u001b[0;36mCapture._packets_from_tshark_sync\u001b[0;34m(self, packet_count, existing_process)\u001b[0m\n\u001b[1;32m    219\u001b[0m \u001b[39mwhile\u001b[39;00m \u001b[39mTrue\u001b[39;00m:\n\u001b[1;32m    220\u001b[0m     \u001b[39mtry\u001b[39;00m:\n\u001b[0;32m--> 221\u001b[0m         packet, data \u001b[39m=\u001b[39m \u001b[39mself\u001b[39;49m\u001b[39m.\u001b[39;49meventloop\u001b[39m.\u001b[39;49mrun_until_complete(\n\u001b[1;32m    222\u001b[0m             parser\u001b[39m.\u001b[39;49mget_packets_from_stream(tshark_process\u001b[39m.\u001b[39;49mstdout, data,\n\u001b[1;32m    223\u001b[0m                                            got_first_packet\u001b[39m=\u001b[39;49mpackets_captured \u001b[39m>\u001b[39;49m \u001b[39m0\u001b[39;49m))\n\u001b[1;32m    225\u001b[0m     \u001b[39mexcept\u001b[39;00m \u001b[39mEOFError\u001b[39;00m:\n\u001b[1;32m    226\u001b[0m         \u001b[39mself\u001b[39m\u001b[39m.\u001b[39m_log\u001b[39m.\u001b[39mdebug(\u001b[39m\"\u001b[39m\u001b[39mEOF reached (sync)\u001b[39m\u001b[39m\"\u001b[39m)\n",
      "File \u001b[0;32m~/Library/Python/3.11/lib/python/site-packages/nest_asyncio.py:93\u001b[0m, in \u001b[0;36m_patch_loop.<locals>.run_until_complete\u001b[0;34m(self, future)\u001b[0m\n\u001b[1;32m     91\u001b[0m     f\u001b[39m.\u001b[39m_log_destroy_pending \u001b[39m=\u001b[39m \u001b[39mFalse\u001b[39;00m\n\u001b[1;32m     92\u001b[0m \u001b[39mwhile\u001b[39;00m \u001b[39mnot\u001b[39;00m f\u001b[39m.\u001b[39mdone():\n\u001b[0;32m---> 93\u001b[0m     \u001b[39mself\u001b[39;49m\u001b[39m.\u001b[39;49m_run_once()\n\u001b[1;32m     94\u001b[0m     \u001b[39mif\u001b[39;00m \u001b[39mself\u001b[39m\u001b[39m.\u001b[39m_stopping:\n\u001b[1;32m     95\u001b[0m         \u001b[39mbreak\u001b[39;00m\n",
      "File \u001b[0;32m~/Library/Python/3.11/lib/python/site-packages/nest_asyncio.py:129\u001b[0m, in \u001b[0;36m_patch_loop.<locals>._run_once\u001b[0;34m(self)\u001b[0m\n\u001b[1;32m    127\u001b[0m     handle \u001b[39m=\u001b[39m ready\u001b[39m.\u001b[39mpopleft()\n\u001b[1;32m    128\u001b[0m     \u001b[39mif\u001b[39;00m \u001b[39mnot\u001b[39;00m handle\u001b[39m.\u001b[39m_cancelled:\n\u001b[0;32m--> 129\u001b[0m         handle\u001b[39m.\u001b[39;49m_run()\n\u001b[1;32m    130\u001b[0m handle \u001b[39m=\u001b[39m \u001b[39mNone\u001b[39;00m\n",
      "File \u001b[0;32m/opt/homebrew/Cellar/python@3.11/3.11.7_1/Frameworks/Python.framework/Versions/3.11/lib/python3.11/asyncio/events.py:80\u001b[0m, in \u001b[0;36mHandle._run\u001b[0;34m(self)\u001b[0m\n\u001b[1;32m     78\u001b[0m \u001b[39mdef\u001b[39;00m \u001b[39m_run\u001b[39m(\u001b[39mself\u001b[39m):\n\u001b[1;32m     79\u001b[0m     \u001b[39mtry\u001b[39;00m:\n\u001b[0;32m---> 80\u001b[0m         \u001b[39mself\u001b[39;49m\u001b[39m.\u001b[39;49m_context\u001b[39m.\u001b[39;49mrun(\u001b[39mself\u001b[39;49m\u001b[39m.\u001b[39;49m_callback, \u001b[39m*\u001b[39;49m\u001b[39mself\u001b[39;49m\u001b[39m.\u001b[39;49m_args)\n\u001b[1;32m     81\u001b[0m     \u001b[39mexcept\u001b[39;00m (\u001b[39mSystemExit\u001b[39;00m, \u001b[39mKeyboardInterrupt\u001b[39;00m):\n\u001b[1;32m     82\u001b[0m         \u001b[39mraise\u001b[39;00m\n",
      "File \u001b[0;32m~/Library/Python/3.11/lib/python/site-packages/nest_asyncio.py:205\u001b[0m, in \u001b[0;36m_patch_task.<locals>.step\u001b[0;34m(task, exc)\u001b[0m\n\u001b[1;32m    203\u001b[0m curr_task \u001b[39m=\u001b[39m curr_tasks\u001b[39m.\u001b[39mget(task\u001b[39m.\u001b[39m_loop)\n\u001b[1;32m    204\u001b[0m \u001b[39mtry\u001b[39;00m:\n\u001b[0;32m--> 205\u001b[0m     step_orig(task, exc)\n\u001b[1;32m    206\u001b[0m \u001b[39mfinally\u001b[39;00m:\n\u001b[1;32m    207\u001b[0m     \u001b[39mif\u001b[39;00m curr_task \u001b[39mis\u001b[39;00m \u001b[39mNone\u001b[39;00m:\n",
      "File \u001b[0;32m/opt/homebrew/Cellar/python@3.11/3.11.7_1/Frameworks/Python.framework/Versions/3.11/lib/python3.11/asyncio/tasks.py:277\u001b[0m, in \u001b[0;36mTask.__step\u001b[0;34m(***failed resolving arguments***)\u001b[0m\n\u001b[1;32m    273\u001b[0m \u001b[39mtry\u001b[39;00m:\n\u001b[1;32m    274\u001b[0m     \u001b[39mif\u001b[39;00m exc \u001b[39mis\u001b[39;00m \u001b[39mNone\u001b[39;00m:\n\u001b[1;32m    275\u001b[0m         \u001b[39m# We use the `send` method directly, because coroutines\u001b[39;00m\n\u001b[1;32m    276\u001b[0m         \u001b[39m# don't have `__iter__` and `__next__` methods.\u001b[39;00m\n\u001b[0;32m--> 277\u001b[0m         result \u001b[39m=\u001b[39m coro\u001b[39m.\u001b[39msend(\u001b[39mNone\u001b[39;00m)\n\u001b[1;32m    278\u001b[0m     \u001b[39melse\u001b[39;00m:\n\u001b[1;32m    279\u001b[0m         result \u001b[39m=\u001b[39m coro\u001b[39m.\u001b[39mthrow(exc)\n",
      "File \u001b[0;32m/opt/homebrew/lib/python3.11/site-packages/pyshark/tshark/output_parser/tshark_xml.py:27\u001b[0m, in \u001b[0;36mTsharkXmlParser.get_packets_from_stream\u001b[0;34m(self, stream, existing_data, got_first_packet)\u001b[0m\n\u001b[1;32m     25\u001b[0m \u001b[39mif\u001b[39;00m \u001b[39mself\u001b[39m\u001b[39m.\u001b[39m_parse_summaries:\n\u001b[1;32m     26\u001b[0m     existing_data \u001b[39m=\u001b[39m \u001b[39mawait\u001b[39;00m \u001b[39mself\u001b[39m\u001b[39m.\u001b[39m_get_psml_struct(stream)\n\u001b[0;32m---> 27\u001b[0m \u001b[39mreturn\u001b[39;00m \u001b[39mawait\u001b[39;00m \u001b[39msuper\u001b[39m()\u001b[39m.\u001b[39mget_packets_from_stream(stream, existing_data, got_first_packet\u001b[39m=\u001b[39mgot_first_packet)\n",
      "File \u001b[0;32m/opt/homebrew/lib/python3.11/site-packages/pyshark/tshark/output_parser/base_parser.py:15\u001b[0m, in \u001b[0;36mBaseTsharkOutputParser.get_packets_from_stream\u001b[0;34m(self, stream, existing_data, got_first_packet)\u001b[0m\n\u001b[1;32m     12\u001b[0m packet, existing_data \u001b[39m=\u001b[39m \u001b[39mself\u001b[39m\u001b[39m.\u001b[39m_extract_packet_from_data(existing_data,\n\u001b[1;32m     13\u001b[0m                                                        got_first_packet\u001b[39m=\u001b[39mgot_first_packet)\n\u001b[1;32m     14\u001b[0m \u001b[39mif\u001b[39;00m packet:\n\u001b[0;32m---> 15\u001b[0m     packet \u001b[39m=\u001b[39m \u001b[39mself\u001b[39;49m\u001b[39m.\u001b[39;49m_parse_single_packet(packet)\n\u001b[1;32m     16\u001b[0m     \u001b[39mreturn\u001b[39;00m packet, existing_data\n\u001b[1;32m     18\u001b[0m new_data \u001b[39m=\u001b[39m \u001b[39mawait\u001b[39;00m stream\u001b[39m.\u001b[39mread(\u001b[39mself\u001b[39m\u001b[39m.\u001b[39mDEFAULT_BATCH_SIZE)\n",
      "File \u001b[0;32m/opt/homebrew/lib/python3.11/site-packages/pyshark/tshark/output_parser/tshark_xml.py:30\u001b[0m, in \u001b[0;36mTsharkXmlParser._parse_single_packet\u001b[0;34m(self, packet)\u001b[0m\n\u001b[1;32m     29\u001b[0m \u001b[39mdef\u001b[39;00m \u001b[39m_parse_single_packet\u001b[39m(\u001b[39mself\u001b[39m, packet):\n\u001b[0;32m---> 30\u001b[0m     \u001b[39mreturn\u001b[39;00m packet_from_xml_packet(packet, psml_structure\u001b[39m=\u001b[39;49m\u001b[39mself\u001b[39;49m\u001b[39m.\u001b[39;49m_psml_structure)\n",
      "File \u001b[0;32m/opt/homebrew/lib/python3.11/site-packages/pyshark/tshark/output_parser/tshark_xml.py:81\u001b[0m, in \u001b[0;36mpacket_from_xml_packet\u001b[0;34m(xml_pkt, psml_structure)\u001b[0m\n\u001b[1;32m     79\u001b[0m \u001b[39mif\u001b[39;00m \u001b[39mnot\u001b[39;00m \u001b[39misinstance\u001b[39m(xml_pkt, lxml\u001b[39m.\u001b[39mobjectify\u001b[39m.\u001b[39mObjectifiedElement):\n\u001b[1;32m     80\u001b[0m     parser \u001b[39m=\u001b[39m lxml\u001b[39m.\u001b[39mobjectify\u001b[39m.\u001b[39mmakeparser(huge_tree\u001b[39m=\u001b[39m\u001b[39mTrue\u001b[39;00m, recover\u001b[39m=\u001b[39m\u001b[39mTrue\u001b[39;00m, encoding\u001b[39m=\u001b[39m\u001b[39m'\u001b[39m\u001b[39mutf-8\u001b[39m\u001b[39m'\u001b[39m)\n\u001b[0;32m---> 81\u001b[0m     xml_pkt \u001b[39m=\u001b[39m xml_pkt\u001b[39m.\u001b[39mdecode(errors\u001b[39m=\u001b[39m\u001b[39m'\u001b[39m\u001b[39mignore\u001b[39m\u001b[39m'\u001b[39m)\u001b[39m.\u001b[39mtranslate(DEL_BAD_XML_CHARS)\n\u001b[1;32m     82\u001b[0m     xml_pkt \u001b[39m=\u001b[39m lxml\u001b[39m.\u001b[39mobjectify\u001b[39m.\u001b[39mfromstring(xml_pkt\u001b[39m.\u001b[39mencode(\u001b[39m'\u001b[39m\u001b[39mutf-8\u001b[39m\u001b[39m'\u001b[39m), parser)\n\u001b[1;32m     83\u001b[0m \u001b[39mif\u001b[39;00m psml_structure:\n",
      "\u001b[0;31mKeyboardInterrupt\u001b[0m: "
     ]
    }
   ],
   "source": [
    "# Apply the nest_asyncio patch\n",
    "nest_asyncio.apply()\n",
    "\n",
    "def read_pcap(file_name, listttt: list=samyang):\n",
    "    cap = pyshark.FileCapture(file_name)\n",
    "    \n",
    "    # Iterate over packets and display their information\n",
    "    for i, packet in tqdm(enumerate(cap)):\n",
    "        packet: Packet = packet\n",
    "        if ('TCP' not in packet) or ('IP' not in packet): continue\n",
    "        # print(f\"Seq: {packet.tcp.seq}\")\n",
    "        pio = PacketInfo(\n",
    "            seq_number=packet.tcp.seq,\n",
    "            masked_dst=packet.ip.dst,\n",
    "            masked_src=packet.ip.src,\n",
    "            cap_index=i\n",
    "        )\n",
    "        listttt.append(pio)\n",
    "\n",
    "# Replace 'your_pcap_file.pcap' with the path to your pcap file\n",
    "read_pcap('./test.pcap')"
   ]
  },
  {
   "cell_type": "code",
   "execution_count": null,
   "metadata": {},
   "outputs": [],
   "source": []
  },
  {
   "cell_type": "code",
   "execution_count": 8,
   "metadata": {},
   "outputs": [
    {
     "data": {
      "text/plain": [
       "2308956"
      ]
     },
     "execution_count": 8,
     "metadata": {},
     "output_type": "execute_result"
    }
   ],
   "source": [
    "len(samyang)"
   ]
  },
  {
   "cell_type": "code",
   "execution_count": 9,
   "metadata": {},
   "outputs": [],
   "source": [
    "import pandas as pd "
   ]
  },
  {
   "cell_type": "code",
   "execution_count": 11,
   "metadata": {},
   "outputs": [
    {
     "name": "stderr",
     "output_type": "stream",
     "text": [
      "Task exception was never retrieved\n",
      "future: <Task finished name='Task-17693' coro=<TsharkXmlParser.get_packets_from_stream() done, defined at /opt/homebrew/lib/python3.11/site-packages/pyshark/tshark/output_parser/tshark_xml.py:24> exception=KeyboardInterrupt()>\n",
      "Traceback (most recent call last):\n",
      "  File \"/Users/bombar/Library/Python/3.11/lib/python/site-packages/IPython/core/interactiveshell.py\", line 3508, in run_code\n",
      "    exec(code_obj, self.user_global_ns, self.user_ns)\n",
      "  File \"/var/folders/rn/8860wjyx3fq1pgh2qcb758n40000gn/T/ipykernel_12160/4081954385.py\", line 22, in <module>\n",
      "    read_pcap('./test.pcap')\n",
      "  File \"/var/folders/rn/8860wjyx3fq1pgh2qcb758n40000gn/T/ipykernel_12160/4081954385.py\", line 9, in read_pcap\n",
      "    for i, packet in tqdm(enumerate(cap)):\n",
      "  File \"/opt/homebrew/lib/python3.11/site-packages/tqdm/std.py\", line 1182, in __iter__\n",
      "    for obj in iterable:\n",
      "  File \"/opt/homebrew/lib/python3.11/site-packages/pyshark/capture/capture.py\", line 221, in _packets_from_tshark_sync\n",
      "    packet, data = self.eventloop.run_until_complete(\n",
      "                   ^^^^^^^^^^^^^^^^^^^^^^^^^^^^^^^^^^\n",
      "  File \"/Users/bombar/Library/Python/3.11/lib/python/site-packages/nest_asyncio.py\", line 93, in run_until_complete\n",
      "    self._run_once()\n",
      "  File \"/Users/bombar/Library/Python/3.11/lib/python/site-packages/nest_asyncio.py\", line 129, in _run_once\n",
      "    handle._run()\n",
      "  File \"/opt/homebrew/Cellar/python@3.11/3.11.7_1/Frameworks/Python.framework/Versions/3.11/lib/python3.11/asyncio/events.py\", line 80, in _run\n",
      "    self._context.run(self._callback, *self._args)\n",
      "  File \"/Users/bombar/Library/Python/3.11/lib/python/site-packages/nest_asyncio.py\", line 205, in step\n",
      "    step_orig(task, exc)\n",
      "  File \"/opt/homebrew/Cellar/python@3.11/3.11.7_1/Frameworks/Python.framework/Versions/3.11/lib/python3.11/asyncio/tasks.py\", line 277, in __step\n",
      "    result = coro.send(None)\n",
      "             ^^^^^^^^^^^^^^^\n",
      "  File \"/opt/homebrew/lib/python3.11/site-packages/pyshark/tshark/output_parser/tshark_xml.py\", line 27, in get_packets_from_stream\n",
      "    return await super().get_packets_from_stream(stream, existing_data, got_first_packet=got_first_packet)\n",
      "           ^^^^^^^^^^^^^^^^^^^^^^^^^^^^^^^^^^^^^^^^^^^^^^^^^^^^^^^^^^^^^^^^^^^^^^^^^^^^^^^^^^^^^^^^^^^^^^^\n",
      "  File \"/opt/homebrew/lib/python3.11/site-packages/pyshark/tshark/output_parser/base_parser.py\", line 15, in get_packets_from_stream\n",
      "    packet = self._parse_single_packet(packet)\n",
      "             ^^^^^^^^^^^^^^^^^^^^^^^^^^^^^^^^^\n",
      "  File \"/opt/homebrew/lib/python3.11/site-packages/pyshark/tshark/output_parser/tshark_xml.py\", line 30, in _parse_single_packet\n",
      "    return packet_from_xml_packet(packet, psml_structure=self._psml_structure)\n",
      "           ^^^^^^^^^^^^^^^^^^^^^^^^^^^^^^^^^^^^^^^^^^^^^^^^^^^^^^^^^^^^^^^^^^^\n",
      "  File \"/opt/homebrew/lib/python3.11/site-packages/pyshark/tshark/output_parser/tshark_xml.py\", line 81, in packet_from_xml_packet\n",
      "    xml_pkt = xml_pkt.decode(errors='ignore').translate(DEL_BAD_XML_CHARS)\n",
      "              ^^^^^^^^^^^^^^^^^^^^^^^^^^^^^^^^^^^^^^^^^^^^^^^^^^^^^^^^^^^^\n",
      "KeyboardInterrupt\n",
      "Task exception was never retrieved\n",
      "future: <Task finished name='Task-5921245' coro=<TsharkXmlParser.get_packets_from_stream() done, defined at /opt/homebrew/lib/python3.11/site-packages/pyshark/tshark/output_parser/tshark_xml.py:24> exception=KeyboardInterrupt()>\n",
      "Traceback (most recent call last):\n",
      "  File \"/Users/bombar/Library/Python/3.11/lib/python/site-packages/IPython/core/interactiveshell.py\", line 3508, in run_code\n",
      "    exec(code_obj, self.user_global_ns, self.user_ns)\n",
      "  File \"/var/folders/rn/8860wjyx3fq1pgh2qcb758n40000gn/T/ipykernel_12160/1464948296.py\", line 21, in <module>\n",
      "    read_pcap('./test.pcap')\n",
      "  File \"/var/folders/rn/8860wjyx3fq1pgh2qcb758n40000gn/T/ipykernel_12160/1464948296.py\", line 8, in read_pcap\n",
      "    for i, packet in tqdm(enumerate(cap)):\n",
      "  File \"/opt/homebrew/lib/python3.11/site-packages/tqdm/std.py\", line 1182, in __iter__\n",
      "    for obj in iterable:\n",
      "  File \"/opt/homebrew/lib/python3.11/site-packages/pyshark/capture/capture.py\", line 221, in _packets_from_tshark_sync\n",
      "    packet, data = self.eventloop.run_until_complete(\n",
      "                   ^^^^^^^^^^^^^^^^^^^^^^^^^^^^^^^^^^\n",
      "  File \"/Users/bombar/Library/Python/3.11/lib/python/site-packages/nest_asyncio.py\", line 93, in run_until_complete\n",
      "    self._run_once()\n",
      "  File \"/Users/bombar/Library/Python/3.11/lib/python/site-packages/nest_asyncio.py\", line 129, in _run_once\n",
      "    handle._run()\n",
      "  File \"/opt/homebrew/Cellar/python@3.11/3.11.7_1/Frameworks/Python.framework/Versions/3.11/lib/python3.11/asyncio/events.py\", line 80, in _run\n",
      "    self._context.run(self._callback, *self._args)\n",
      "  File \"/Users/bombar/Library/Python/3.11/lib/python/site-packages/nest_asyncio.py\", line 205, in step\n",
      "    step_orig(task, exc)\n",
      "  File \"/opt/homebrew/Cellar/python@3.11/3.11.7_1/Frameworks/Python.framework/Versions/3.11/lib/python3.11/asyncio/tasks.py\", line 277, in __step\n",
      "    result = coro.send(None)\n",
      "             ^^^^^^^^^^^^^^^\n",
      "  File \"/opt/homebrew/lib/python3.11/site-packages/pyshark/tshark/output_parser/tshark_xml.py\", line 27, in get_packets_from_stream\n",
      "    return await super().get_packets_from_stream(stream, existing_data, got_first_packet=got_first_packet)\n",
      "           ^^^^^^^^^^^^^^^^^^^^^^^^^^^^^^^^^^^^^^^^^^^^^^^^^^^^^^^^^^^^^^^^^^^^^^^^^^^^^^^^^^^^^^^^^^^^^^^\n",
      "  File \"/opt/homebrew/lib/python3.11/site-packages/pyshark/tshark/output_parser/base_parser.py\", line 15, in get_packets_from_stream\n",
      "    packet = self._parse_single_packet(packet)\n",
      "             ^^^^^^^^^^^^^^^^^^^^^^^^^^^^^^^^^\n",
      "  File \"/opt/homebrew/lib/python3.11/site-packages/pyshark/tshark/output_parser/tshark_xml.py\", line 30, in _parse_single_packet\n",
      "    return packet_from_xml_packet(packet, psml_structure=self._psml_structure)\n",
      "           ^^^^^^^^^^^^^^^^^^^^^^^^^^^^^^^^^^^^^^^^^^^^^^^^^^^^^^^^^^^^^^^^^^^\n",
      "  File \"/opt/homebrew/lib/python3.11/site-packages/pyshark/tshark/output_parser/tshark_xml.py\", line 81, in packet_from_xml_packet\n",
      "    xml_pkt = xml_pkt.decode(errors='ignore').translate(DEL_BAD_XML_CHARS)\n",
      "              ^^^^^^^^^^^^^^^^^^^^^^^^^^^^^^^^^^^^^^^^^^^^^^^^^^^^^^^^^^^^\n",
      "KeyboardInterrupt\n"
     ]
    }
   ],
   "source": [
    "r = pd.DataFrame(samyang)"
   ]
  },
  {
   "cell_type": "code",
   "execution_count": 12,
   "metadata": {},
   "outputs": [
    {
     "data": {
      "text/html": [
       "<div>\n",
       "<style scoped>\n",
       "    .dataframe tbody tr th:only-of-type {\n",
       "        vertical-align: middle;\n",
       "    }\n",
       "\n",
       "    .dataframe tbody tr th {\n",
       "        vertical-align: top;\n",
       "    }\n",
       "\n",
       "    .dataframe thead th {\n",
       "        text-align: right;\n",
       "    }\n",
       "</style>\n",
       "<table border=\"1\" class=\"dataframe\">\n",
       "  <thead>\n",
       "    <tr style=\"text-align: right;\">\n",
       "      <th></th>\n",
       "      <th>seq_number</th>\n",
       "      <th>masked_src</th>\n",
       "      <th>masked_dst</th>\n",
       "      <th>cap_index</th>\n",
       "    </tr>\n",
       "  </thead>\n",
       "  <tbody>\n",
       "    <tr>\n",
       "      <th>0</th>\n",
       "      <td>1</td>\n",
       "      <td>157.92.66.107</td>\n",
       "      <td>8.150.193.133</td>\n",
       "      <td>1</td>\n",
       "    </tr>\n",
       "    <tr>\n",
       "      <th>1</th>\n",
       "      <td>1</td>\n",
       "      <td>17.122.149.3</td>\n",
       "      <td>163.173.35.131</td>\n",
       "      <td>2</td>\n",
       "    </tr>\n",
       "    <tr>\n",
       "      <th>2</th>\n",
       "      <td>1449</td>\n",
       "      <td>17.122.149.3</td>\n",
       "      <td>163.173.35.131</td>\n",
       "      <td>3</td>\n",
       "    </tr>\n",
       "    <tr>\n",
       "      <th>3</th>\n",
       "      <td>2897</td>\n",
       "      <td>17.122.149.3</td>\n",
       "      <td>163.173.35.131</td>\n",
       "      <td>5</td>\n",
       "    </tr>\n",
       "    <tr>\n",
       "      <th>4</th>\n",
       "      <td>4345</td>\n",
       "      <td>17.122.149.3</td>\n",
       "      <td>163.173.35.131</td>\n",
       "      <td>6</td>\n",
       "    </tr>\n",
       "    <tr>\n",
       "      <th>...</th>\n",
       "      <td>...</td>\n",
       "      <td>...</td>\n",
       "      <td>...</td>\n",
       "      <td>...</td>\n",
       "    </tr>\n",
       "    <tr>\n",
       "      <th>2308951</th>\n",
       "      <td>1</td>\n",
       "      <td>188.108.218.111</td>\n",
       "      <td>202.209.179.52</td>\n",
       "      <td>4868934</td>\n",
       "    </tr>\n",
       "    <tr>\n",
       "      <th>2308952</th>\n",
       "      <td>1</td>\n",
       "      <td>163.173.213.168</td>\n",
       "      <td>64.68.64.94</td>\n",
       "      <td>4868938</td>\n",
       "    </tr>\n",
       "    <tr>\n",
       "      <th>2308953</th>\n",
       "      <td>0</td>\n",
       "      <td>91.19.181.211</td>\n",
       "      <td>133.180.178.9</td>\n",
       "      <td>4868941</td>\n",
       "    </tr>\n",
       "    <tr>\n",
       "      <th>2308954</th>\n",
       "      <td>1434</td>\n",
       "      <td>133.47.141.221</td>\n",
       "      <td>112.90.37.248</td>\n",
       "      <td>4868943</td>\n",
       "    </tr>\n",
       "    <tr>\n",
       "      <th>2308955</th>\n",
       "      <td>0</td>\n",
       "      <td>117.15.151.54</td>\n",
       "      <td>133.180.187.149</td>\n",
       "      <td>4868950</td>\n",
       "    </tr>\n",
       "  </tbody>\n",
       "</table>\n",
       "<p>2308956 rows × 4 columns</p>\n",
       "</div>"
      ],
      "text/plain": [
       "        seq_number       masked_src       masked_dst  cap_index\n",
       "0                1    157.92.66.107    8.150.193.133          1\n",
       "1                1     17.122.149.3   163.173.35.131          2\n",
       "2             1449     17.122.149.3   163.173.35.131          3\n",
       "3             2897     17.122.149.3   163.173.35.131          5\n",
       "4             4345     17.122.149.3   163.173.35.131          6\n",
       "...            ...              ...              ...        ...\n",
       "2308951          1  188.108.218.111   202.209.179.52    4868934\n",
       "2308952          1  163.173.213.168      64.68.64.94    4868938\n",
       "2308953          0    91.19.181.211    133.180.178.9    4868941\n",
       "2308954       1434   133.47.141.221    112.90.37.248    4868943\n",
       "2308955          0    117.15.151.54  133.180.187.149    4868950\n",
       "\n",
       "[2308956 rows x 4 columns]"
      ]
     },
     "execution_count": 12,
     "metadata": {},
     "output_type": "execute_result"
    }
   ],
   "source": [
    "r"
   ]
  },
  {
   "cell_type": "code",
   "execution_count": 13,
   "metadata": {},
   "outputs": [],
   "source": [
    "r.to_csv(\"./zortzort.csv\")"
   ]
  },
  {
   "cell_type": "code",
   "execution_count": null,
   "metadata": {},
   "outputs": [],
   "source": []
  }
 ],
 "metadata": {
  "kernelspec": {
   "display_name": "Python 3",
   "language": "python",
   "name": "python3"
  },
  "language_info": {
   "codemirror_mode": {
    "name": "ipython",
    "version": 3
   },
   "file_extension": ".py",
   "mimetype": "text/x-python",
   "name": "python",
   "nbconvert_exporter": "python",
   "pygments_lexer": "ipython3",
   "version": "3.11.7"
  },
  "orig_nbformat": 4
 },
 "nbformat": 4,
 "nbformat_minor": 2
}
