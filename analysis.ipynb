{
 "cells": [
  {
   "cell_type": "code",
   "execution_count": 15,
   "metadata": {},
   "outputs": [],
   "source": [
    "import numpy as np \n",
    "import pandas as pd "
   ]
  },
  {
   "cell_type": "code",
   "execution_count": 16,
   "metadata": {},
   "outputs": [],
   "source": [
    "def convert_to_ip_str(ipnum):\n",
    "    a = (ipnum & (255 << 0)) >> 0\n",
    "    b = (ipnum & (255 << 8)) >> 8\n",
    "    c = (ipnum & (255 << 16)) >> 16\n",
    "    d = (ipnum & (255 << 24)) >> 24\n",
    "    return f\"{d}.{c}.{b}.{a}\""
   ]
  },
  {
   "cell_type": "code",
   "execution_count": 17,
   "metadata": {},
   "outputs": [],
   "source": [
    "df = pd.read_csv(\"./2024-01-24.csv\")"
   ]
  },
  {
   "cell_type": "code",
   "execution_count": 27,
   "metadata": {},
   "outputs": [],
   "source": [
    "ll = list(df[df.mallicious == True].seq_ip_version)"
   ]
  },
  {
   "cell_type": "code",
   "execution_count": 28,
   "metadata": {},
   "outputs": [
    {
     "data": {
      "text/plain": [
       "['255.255.255.120',\n",
       " '255.255.255.120',\n",
       " '255.255.255.120',\n",
       " '255.255.255.120',\n",
       " '255.255.255.240',\n",
       " '255.255.255.240',\n",
       " '255.255.255.245',\n",
       " '255.255.255.245',\n",
       " '3.171.25.246',\n",
       " '255.255.255.206',\n",
       " '255.255.255.206',\n",
       " '44.121.45.40',\n",
       " '9.130.219.119',\n",
       " '51.30.221.237',\n",
       " '255.255.255.66',\n",
       " '255.255.255.206',\n",
       " '74.93.106.140',\n",
       " '116.84.55.195',\n",
       " '255.255.255.66',\n",
       " '108.188.122.122',\n",
       " '255.255.255.120',\n",
       " '255.255.255.120',\n",
       " '255.255.255.120',\n",
       " '255.255.255.120',\n",
       " '255.255.255.120',\n",
       " '255.255.255.120',\n",
       " '255.255.255.120',\n",
       " '255.255.255.120',\n",
       " '255.255.255.120',\n",
       " '255.255.255.120',\n",
       " '255.255.255.120',\n",
       " '255.255.255.120',\n",
       " '255.255.255.120',\n",
       " '255.255.255.120',\n",
       " '255.255.255.120',\n",
       " '255.255.255.120',\n",
       " '255.255.255.120',\n",
       " '255.255.255.120',\n",
       " '255.255.255.120',\n",
       " '255.255.255.120',\n",
       " '255.255.255.120',\n",
       " '255.255.255.120',\n",
       " '255.255.255.206',\n",
       " '255.255.255.206',\n",
       " '255.255.255.120',\n",
       " '255.255.255.120',\n",
       " '255.255.255.120',\n",
       " '255.255.255.120',\n",
       " '255.255.255.120',\n",
       " '255.255.255.120',\n",
       " '255.255.255.120',\n",
       " '255.255.255.120',\n",
       " '255.255.255.120',\n",
       " '255.255.255.120',\n",
       " '255.255.255.120',\n",
       " '255.255.255.120',\n",
       " '255.255.255.120',\n",
       " '255.255.255.120',\n",
       " '255.255.255.120',\n",
       " '255.255.255.120',\n",
       " '255.255.255.120',\n",
       " '255.255.255.120',\n",
       " '255.255.255.120',\n",
       " '255.255.255.120',\n",
       " '255.255.255.120',\n",
       " '255.255.255.120',\n",
       " '255.255.255.120',\n",
       " '255.255.255.120',\n",
       " '255.255.255.120',\n",
       " '255.255.255.120',\n",
       " '255.255.255.120',\n",
       " '255.255.255.120',\n",
       " '255.255.255.120',\n",
       " '255.255.255.120',\n",
       " '255.255.255.120',\n",
       " '255.255.255.120',\n",
       " '255.255.255.120',\n",
       " '255.255.255.120',\n",
       " '255.255.255.120',\n",
       " '255.255.255.120',\n",
       " '255.255.255.120',\n",
       " '255.255.255.120',\n",
       " '255.255.255.120',\n",
       " '255.255.255.120',\n",
       " '255.255.255.120',\n",
       " '255.255.255.120',\n",
       " '255.255.255.120',\n",
       " '255.255.255.120',\n",
       " '255.255.255.120',\n",
       " '255.255.255.120',\n",
       " '255.255.255.120',\n",
       " '255.255.255.120',\n",
       " '255.255.255.120',\n",
       " '255.255.255.120',\n",
       " '255.255.255.120',\n",
       " '255.255.255.120',\n",
       " '255.255.255.206',\n",
       " '255.255.255.120',\n",
       " '255.255.255.120',\n",
       " '255.255.255.120',\n",
       " '255.255.255.120',\n",
       " '255.255.255.120',\n",
       " '255.255.255.206',\n",
       " '255.255.250.89',\n",
       " '255.255.255.206',\n",
       " '255.255.255.52',\n",
       " '255.255.255.206',\n",
       " '255.255.255.206',\n",
       " '255.255.255.52',\n",
       " '79.190.174.31']"
      ]
     },
     "execution_count": 28,
     "metadata": {},
     "output_type": "execute_result"
    }
   ],
   "source": [
    "ll = [l for l in ll if not l.startswith(\"0.\") and not l.startswith(\"255.\")]\n",
    "ll"
   ]
  },
  {
   "cell_type": "code",
   "execution_count": null,
   "metadata": {},
   "outputs": [],
   "source": []
  },
  {
   "cell_type": "code",
   "execution_count": 23,
   "metadata": {},
   "outputs": [
    {
     "data": {
      "text/html": [
       "<div>\n",
       "<style scoped>\n",
       "    .dataframe tbody tr th:only-of-type {\n",
       "        vertical-align: middle;\n",
       "    }\n",
       "\n",
       "    .dataframe tbody tr th {\n",
       "        vertical-align: top;\n",
       "    }\n",
       "\n",
       "    .dataframe thead th {\n",
       "        text-align: right;\n",
       "    }\n",
       "</style>\n",
       "<table border=\"1\" class=\"dataframe\">\n",
       "  <thead>\n",
       "    <tr style=\"text-align: right;\">\n",
       "      <th></th>\n",
       "      <th>Unnamed: 0</th>\n",
       "      <th>seq_number</th>\n",
       "      <th>masked_src</th>\n",
       "      <th>masked_dst</th>\n",
       "      <th>cap_index</th>\n",
       "      <th>src_port</th>\n",
       "      <th>dst_port</th>\n",
       "      <th>mallicious</th>\n",
       "      <th>date</th>\n",
       "      <th>seq_ip_version</th>\n",
       "    </tr>\n",
       "  </thead>\n",
       "  <tbody>\n",
       "    <tr>\n",
       "      <th>3618096</th>\n",
       "      <td>3618096</td>\n",
       "      <td>1824291450</td>\n",
       "      <td>103.33.74.178</td>\n",
       "      <td>133.245.184.189</td>\n",
       "      <td>339899</td>\n",
       "      <td>57431</td>\n",
       "      <td>5555</td>\n",
       "      <td>True</td>\n",
       "      <td>2022-05-02</td>\n",
       "      <td>108.188.122.122</td>\n",
       "    </tr>\n",
       "  </tbody>\n",
       "</table>\n",
       "</div>"
      ],
      "text/plain": [
       "         Unnamed: 0  seq_number     masked_src       masked_dst  cap_index  \\\n",
       "3618096     3618096  1824291450  103.33.74.178  133.245.184.189     339899   \n",
       "\n",
       "         src_port  dst_port  mallicious        date   seq_ip_version  \n",
       "3618096     57431      5555        True  2022-05-02  108.188.122.122  "
      ]
     },
     "execution_count": 23,
     "metadata": {},
     "output_type": "execute_result"
    }
   ],
   "source": [
    "df[df.seq_ip_version == '108.188.122.122']"
   ]
  },
  {
   "cell_type": "code",
   "execution_count": null,
   "metadata": {},
   "outputs": [],
   "source": []
  }
 ],
 "metadata": {
  "kernelspec": {
   "display_name": "Python 3",
   "language": "python",
   "name": "python3"
  },
  "language_info": {
   "codemirror_mode": {
    "name": "ipython",
    "version": 3
   },
   "file_extension": ".py",
   "mimetype": "text/x-python",
   "name": "python",
   "nbconvert_exporter": "python",
   "pygments_lexer": "ipython3",
   "version": "3.11.7"
  },
  "orig_nbformat": 4
 },
 "nbformat": 4,
 "nbformat_minor": 2
}
